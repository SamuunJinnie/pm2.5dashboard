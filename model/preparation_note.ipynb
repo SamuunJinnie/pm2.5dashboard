{
 "cells": [
  {
   "cell_type": "code",
   "execution_count": 1,
   "metadata": {},
   "outputs": [],
   "source": [
    "from os.path import join\n",
    "import pandas as pd\n",
    "from prepare_data import get_station_paths, prepare_old_station_data, prepare_new_station_data\n",
    "\n",
    "old_basepath = '../basedata/PCD Data/Data before 2020-9'\n",
    "new_basepath = '../basedata/PCD Data/Data after 2020-7/PCD data after 2020-7.csv'\n",
    "others_basepath = './prepared_data/others/'\n"
   ]
  },
  {
   "cell_type": "code",
   "execution_count": 2,
   "metadata": {},
   "outputs": [],
   "source": [
    "new_columns = ['stationID', 'PM25', 'PM10', 'NO2', 'SO2', 'CO', 'O3', 'datetime_aq']\n",
    "all_new_df = pd.read_csv(new_basepath, usecols=new_columns)\n",
    "old_station_paths = get_station_paths(old_basepath)"
   ]
  },
  {
   "cell_type": "markdown",
   "metadata": {},
   "source": [
    "# get all uncollect columns name"
   ]
  },
  {
   "cell_type": "markdown",
   "metadata": {},
   "source": [
    "## new data"
   ]
  },
  {
   "cell_type": "code",
   "execution_count": 3,
   "metadata": {},
   "outputs": [
    {
     "data": {
      "text/plain": [
       "{'CO', 'NO2', 'O3', 'PM10', 'PM25', 'SO2'}"
      ]
     },
     "execution_count": 3,
     "metadata": {},
     "output_type": "execute_result"
    }
   ],
   "source": [
    "new_uncollect = set()\n",
    "stations = []\n",
    "columns = []\n",
    "counts = []\n",
    "for station in all_new_df['stationID'].unique():\n",
    "    st_df = all_new_df[all_new_df.stationID == station]\n",
    "    st_cols = []\n",
    "    for col in st_df.columns:\n",
    "        na_count = st_df[col].isna().sum()\n",
    "        if na_count > 0:\n",
    "            new_uncollect.add(col)\n",
    "            stations.append(station)\n",
    "            columns.append(col)\n",
    "            counts.append(na_count)\n",
    "new_uncollect_df = pd.DataFrame({'station':stations, 'column':columns, 'count':counts})\n",
    "new_uncollect"
   ]
  },
  {
   "cell_type": "code",
   "execution_count": 4,
   "metadata": {},
   "outputs": [],
   "source": [
    "pd.DataFrame(new_uncollect).to_csv(join(others_basepath, 'new_uncollect_columns.csv'))\n",
    "new_uncollect_df.to_csv(join(others_basepath, 'new_uncollect_mapper.csv'))"
   ]
  },
  {
   "cell_type": "markdown",
   "metadata": {},
   "source": [
    "## old data"
   ]
  },
  {
   "cell_type": "markdown",
   "metadata": {},
   "source": [
    "### Investigate columns name"
   ]
  },
  {
   "cell_type": "code",
   "execution_count": 5,
   "metadata": {},
   "outputs": [
    {
     "name": "stdout",
     "output_type": "stream",
     "text": [
      "33t\n",
      "13t\n"
     ]
    }
   ],
   "source": [
    "old_columns = set()\n",
    "start_dt = set()\n",
    "end_dt = set()\n",
    "for station in old_station_paths:\n",
    "    try:\n",
    "        df = prepare_old_station_data(station)\n",
    "        for col in df.columns:\n",
    "            old_columns.add(col)\n",
    "        start_dt.add(df.index[0])\n",
    "        end_dt.add(df.index[-1])\n",
    "    except:\n",
    "        print(station)"
   ]
  },
  {
   "cell_type": "markdown",
   "metadata": {},
   "source": [
    "# This start date and end date make we notice there are 1900s data"
   ]
  },
  {
   "cell_type": "code",
   "execution_count": 13,
   "metadata": {},
   "outputs": [
    {
     "data": {
      "text/plain": [
       "{Timestamp('2001-01-10 00:00:00+0700', tz='UTC+07:00', freq='H'),\n",
       " Timestamp('2010-01-01 00:00:00+0700', tz='UTC+07:00', freq='H'),\n",
       " Timestamp('2010-01-02 01:00:00+0700', tz='UTC+07:00', freq='H'),\n",
       " Timestamp('2010-01-25 02:00:00+0700', tz='UTC+07:00', freq='H'),\n",
       " Timestamp('2010-01-26 00:00:00+0700', tz='UTC+07:00', freq='H'),\n",
       " Timestamp('2010-02-08 00:00:00+0700', tz='UTC+07:00', freq='H'),\n",
       " Timestamp('2010-05-05 00:00:00+0700', tz='UTC+07:00', freq='H'),\n",
       " Timestamp('2010-05-07 00:00:00+0700', tz='UTC+07:00', freq='H'),\n",
       " Timestamp('2011-06-28 00:00:00+0700', tz='UTC+07:00', freq='H'),\n",
       " Timestamp('2011-07-01 00:00:00+0700', tz='UTC+07:00', freq='H'),\n",
       " Timestamp('2011-07-13 00:00:00+0700', tz='UTC+07:00', freq='H'),\n",
       " Timestamp('2011-11-08 00:00:00+0700', tz='UTC+07:00', freq='H'),\n",
       " Timestamp('2013-01-19 00:00:00+0700', tz='UTC+07:00', freq='H'),\n",
       " Timestamp('2014-08-22 00:00:00+0700', tz='UTC+07:00', freq='H'),\n",
       " Timestamp('2015-04-09 00:00:00+0700', tz='UTC+07:00', freq='H'),\n",
       " Timestamp('2015-04-10 00:00:00+0700', tz='UTC+07:00', freq='H'),\n",
       " Timestamp('2015-06-22 00:00:00+0700', tz='UTC+07:00', freq='H'),\n",
       " Timestamp('2016-06-01 00:00:00+0700', tz='UTC+07:00', freq='H'),\n",
       " Timestamp('2017-03-22 00:00:00+0700', tz='UTC+07:00', freq='H'),\n",
       " Timestamp('2017-06-06 00:00:00+0700', tz='UTC+07:00', freq='H'),\n",
       " Timestamp('2017-06-07 00:00:00+0700', tz='UTC+07:00', freq='H'),\n",
       " Timestamp('2018-01-10 00:00:00+0700', tz='UTC+07:00', freq='H'),\n",
       " Timestamp('2019-06-25 00:00:00+0700', tz='UTC+07:00', freq='H'),\n",
       " Timestamp('2019-07-05 00:00:00+0700', tz='UTC+07:00', freq='H'),\n",
       " Timestamp('2019-12-01 00:00:00+0700', tz='UTC+07:00', freq='H'),\n",
       " Timestamp('2020-03-01 00:00:00+0700', tz='UTC+07:00', freq='H'),\n",
       " Timestamp('2020-03-04 00:00:00+0700', tz='UTC+07:00', freq='H'),\n",
       " Timestamp('2095-06-15 00:00:00+0700', tz='UTC+07:00', freq='H'),\n",
       " Timestamp('2096-01-31 00:00:00+0700', tz='UTC+07:00', freq='H')}"
      ]
     },
     "execution_count": 13,
     "metadata": {},
     "output_type": "execute_result"
    }
   ],
   "source": [
    "start_dt"
   ]
  },
  {
   "cell_type": "code",
   "execution_count": 14,
   "metadata": {},
   "outputs": [
    {
     "data": {
      "text/plain": [
       "{Timestamp('2011-06-03 14:00:00+0700', tz='UTC+07:00', freq='H'),\n",
       " Timestamp('2011-06-26 11:00:00+0700', tz='UTC+07:00', freq='H'),\n",
       " Timestamp('2012-10-26 10:00:00+0700', tz='UTC+07:00', freq='H'),\n",
       " Timestamp('2012-12-31 23:00:00+0700', tz='UTC+07:00', freq='H'),\n",
       " Timestamp('2013-07-11 09:00:00+0700', tz='UTC+07:00', freq='H'),\n",
       " Timestamp('2013-08-31 09:00:00+0700', tz='UTC+07:00', freq='H'),\n",
       " Timestamp('2013-09-27 07:00:00+0700', tz='UTC+07:00', freq='H'),\n",
       " Timestamp('2014-06-25 09:00:00+0700', tz='UTC+07:00', freq='H'),\n",
       " Timestamp('2014-07-15 23:00:00+0700', tz='UTC+07:00', freq='H'),\n",
       " Timestamp('2014-11-23 23:00:00+0700', tz='UTC+07:00', freq='H'),\n",
       " Timestamp('2014-12-31 23:00:00+0700', tz='UTC+07:00', freq='H'),\n",
       " Timestamp('2015-08-26 09:00:00+0700', tz='UTC+07:00', freq='H'),\n",
       " Timestamp('2015-10-16 16:00:00+0700', tz='UTC+07:00', freq='H'),\n",
       " Timestamp('2015-11-30 09:00:00+0700', tz='UTC+07:00', freq='H'),\n",
       " Timestamp('2015-11-30 23:00:00+0700', tz='UTC+07:00', freq='H'),\n",
       " Timestamp('2015-12-30 06:00:00+0700', tz='UTC+07:00', freq='H'),\n",
       " Timestamp('2015-12-31 22:00:00+0700', tz='UTC+07:00', freq='H'),\n",
       " Timestamp('2015-12-31 23:00:00+0700', tz='UTC+07:00', freq='H'),\n",
       " Timestamp('2016-03-13 09:00:00+0700', tz='UTC+07:00', freq='H'),\n",
       " Timestamp('2016-11-20 07:00:00+0700', tz='UTC+07:00', freq='H'),\n",
       " Timestamp('2016-11-25 09:00:00+0700', tz='UTC+07:00', freq='H'),\n",
       " Timestamp('2016-12-19 07:00:00+0700', tz='UTC+07:00', freq='H'),\n",
       " Timestamp('2016-12-22 09:00:00+0700', tz='UTC+07:00', freq='H'),\n",
       " Timestamp('2016-12-31 23:00:00+0700', tz='UTC+07:00', freq='H'),\n",
       " Timestamp('2020-09-30 22:00:00+0700', tz='UTC+07:00', freq='H'),\n",
       " Timestamp('2020-09-30 23:00:00+0700', tz='UTC+07:00', freq='H'),\n",
       " Timestamp('2031-12-16 23:00:00+0700', tz='UTC+07:00', freq='H'),\n",
       " Timestamp('2099-12-30 20:00:00+0700', tz='UTC+07:00', freq='H'),\n",
       " Timestamp('2099-12-31 23:00:00+0700', tz='UTC+07:00', freq='H')}"
      ]
     },
     "execution_count": 14,
     "metadata": {},
     "output_type": "execute_result"
    }
   ],
   "source": [
    "end_dt"
   ]
  },
  {
   "cell_type": "code",
   "execution_count": 6,
   "metadata": {},
   "outputs": [
    {
     "data": {
      "text/plain": [
       "{' CO',\n",
       " ' CO ',\n",
       " ' Glob rad',\n",
       " ' NO ',\n",
       " ' NO2',\n",
       " ' NOX ',\n",
       " ' PM10',\n",
       " ' Pressure',\n",
       " ' RH',\n",
       " ' Rain',\n",
       " ' Rel hum',\n",
       " ' SO2 ',\n",
       " ' TEMP',\n",
       " ' Temp',\n",
       " ' Total HC',\n",
       " ' WD',\n",
       " ' WS ',\n",
       " ' Wind dir',\n",
       " ' Wind speed',\n",
       " 'CH4 (ppm)',\n",
       " 'CO',\n",
       " 'CO(ppm)',\n",
       " 'NO',\n",
       " 'NO2',\n",
       " 'Nox',\n",
       " 'O3',\n",
       " 'PM10',\n",
       " 'PM10(มคก./ลบ.ม.)',\n",
       " 'PM2.5',\n",
       " 'PM2.5 ',\n",
       " 'RH',\n",
       " 'SO2',\n",
       " 'TEMP',\n",
       " 'TMP',\n",
       " 'Temp',\n",
       " 'WD',\n",
       " 'WS'}"
      ]
     },
     "execution_count": 6,
     "metadata": {},
     "output_type": "execute_result"
    }
   ],
   "source": [
    "old_columns"
   ]
  },
  {
   "cell_type": "markdown",
   "metadata": {},
   "source": [
    "## We rename column to be the same format as this"
   ]
  },
  {
   "cell_type": "code",
   "execution_count": 7,
   "metadata": {},
   "outputs": [],
   "source": [
    "col_mapper = {'CO': 'CO', ' NO2': 'NO2', ' SO2 ': 'SO2', 'O3': 'O3', ' PM10': 'PM10', ' Wind speed': 'WS', ' Wind dir': 'WD',\n",
    " ' Temp': 'Temp', ' Rel hum': 'Rain', ' PM2.5': 'PM25', 'PM10': 'PM10', 'PM2.5': 'PM25', 'NO2': 'NO2', 'SO2': 'SO2', \n",
    " 'WS': 'WS', 'WD': 'WD', 'TEMP': 'Temp', 'RH': 'Rain', 'PM2.5 ': 'PM25', ' CO': 'CO', ' WD': 'WD', ' WS ': 'WS', 'Temp': 'Temp',\n",
    "  ' TEMP': 'Temp', ' RH': 'Rain', ' CO ': 'CO', ' Rain': 'Rain', 'CO(ppm)': 'CO', 'PM10(มคก./ลบ.ม.)': 'PM10', 'TMP': 'Temp'}\n",
    "to_remove = ['NO', 'Nox', ' NO ', ' NOX ', ' Glob rad', ' Total HC', 'CH4 (ppm)']\n",
    "to_have = ['CO', 'NO2', 'SO2', 'O3', 'PM10', 'WS', 'WD', 'Temp', 'Rain', 'PM25']"
   ]
  },
  {
   "cell_type": "code",
   "execution_count": 8,
   "metadata": {},
   "outputs": [
    {
     "data": {
      "text/plain": [
       "set()"
      ]
     },
     "execution_count": 8,
     "metadata": {},
     "output_type": "execute_result"
    }
   ],
   "source": [
    "old_uncollect = set()\n",
    "old_columns = {}\n",
    "stations = []\n",
    "columns = []\n",
    "counts = []\n",
    "maximum_st = len(old_station_paths)\n",
    "i = 0\n",
    "for station in old_station_paths:\n",
    "    try:\n",
    "        df = prepare_old_station_data(station)\n",
    "        for col in df.columns:\n",
    "            old_columns[col] = station\n",
    "            na_count = df[col].isna().sum()\n",
    "            if na_count > 0:\n",
    "                old_uncollect.add(col)\n",
    "                stations.append(station)\n",
    "                columns.append(col)\n",
    "                counts.append(na_count)\n",
    "        # ==================================================================\n",
    "        # We add this for find which columns are uncollected\n",
    "        for col in list(set(to_have) - set(df.columns)):\n",
    "            stations.append(station)\n",
    "            columns.append(col)\n",
    "        # ==================================================================\n",
    "    except:\n",
    "        print(station)\n",
    "    i += 1\n",
    "old_uncollect_df = pd.DataFrame({'station':stations, 'column':columns})\n",
    "old_uncollect "
   ]
  },
  {
   "cell_type": "code",
   "execution_count": null,
   "metadata": {},
   "outputs": [
    {
     "data": {
      "text/html": [
       "<div>\n",
       "<style scoped>\n",
       "    .dataframe tbody tr th:only-of-type {\n",
       "        vertical-align: middle;\n",
       "    }\n",
       "\n",
       "    .dataframe tbody tr th {\n",
       "        vertical-align: top;\n",
       "    }\n",
       "\n",
       "    .dataframe thead th {\n",
       "        text-align: right;\n",
       "    }\n",
       "</style>\n",
       "<table border=\"1\" class=\"dataframe\">\n",
       "  <thead>\n",
       "    <tr style=\"text-align: right;\">\n",
       "      <th></th>\n",
       "      <th>station</th>\n",
       "      <th>column</th>\n",
       "    </tr>\n",
       "  </thead>\n",
       "  <tbody>\n",
       "    <tr>\n",
       "      <th>0</th>\n",
       "      <td>41t</td>\n",
       "      <td>Rain</td>\n",
       "    </tr>\n",
       "    <tr>\n",
       "      <th>1</th>\n",
       "      <td>41t</td>\n",
       "      <td>NO2</td>\n",
       "    </tr>\n",
       "    <tr>\n",
       "      <th>2</th>\n",
       "      <td>41t</td>\n",
       "      <td>WD</td>\n",
       "    </tr>\n",
       "    <tr>\n",
       "      <th>3</th>\n",
       "      <td>41t</td>\n",
       "      <td>Temp</td>\n",
       "    </tr>\n",
       "    <tr>\n",
       "      <th>4</th>\n",
       "      <td>41t</td>\n",
       "      <td>SO2</td>\n",
       "    </tr>\n",
       "    <tr>\n",
       "      <th>...</th>\n",
       "      <td>...</td>\n",
       "      <td>...</td>\n",
       "    </tr>\n",
       "    <tr>\n",
       "      <th>482</th>\n",
       "      <td>19t</td>\n",
       "      <td>WD</td>\n",
       "    </tr>\n",
       "    <tr>\n",
       "      <th>483</th>\n",
       "      <td>19t</td>\n",
       "      <td>Temp</td>\n",
       "    </tr>\n",
       "    <tr>\n",
       "      <th>484</th>\n",
       "      <td>19t</td>\n",
       "      <td>SO2</td>\n",
       "    </tr>\n",
       "    <tr>\n",
       "      <th>485</th>\n",
       "      <td>19t</td>\n",
       "      <td>PM25</td>\n",
       "    </tr>\n",
       "    <tr>\n",
       "      <th>486</th>\n",
       "      <td>19t</td>\n",
       "      <td>WS</td>\n",
       "    </tr>\n",
       "  </tbody>\n",
       "</table>\n",
       "<p>487 rows × 2 columns</p>\n",
       "</div>"
      ],
      "text/plain": [
       "    station column\n",
       "0       41t   Rain\n",
       "1       41t    NO2\n",
       "2       41t     WD\n",
       "3       41t   Temp\n",
       "4       41t    SO2\n",
       "..      ...    ...\n",
       "482     19t     WD\n",
       "483     19t   Temp\n",
       "484     19t    SO2\n",
       "485     19t   PM25\n",
       "486     19t     WS\n",
       "\n",
       "[487 rows x 2 columns]"
      ]
     },
     "execution_count": 9,
     "metadata": {},
     "output_type": "execute_result"
    }
   ],
   "source": [
    "old_uncollect_df"
   ]
  },
  {
   "cell_type": "code",
   "execution_count": null,
   "metadata": {},
   "outputs": [],
   "source": [
    "pd.DataFrame(old_uncollect).to_csv(join(others_basepath, 'old_uncollect_columns.csv'))\n",
    "old_uncollect_df.to_csv(join(others_basepath, 'old_uncollect_mapper.csv'))"
   ]
  }
 ],
 "metadata": {
  "interpreter": {
   "hash": "aee8b7b246df8f9039afb4144a1f6fd8d2ca17a180786b69acc140d282b71a49"
  },
  "kernelspec": {
   "display_name": "Python 3.10.4 64-bit",
   "language": "python",
   "name": "python3"
  },
  "language_info": {
   "codemirror_mode": {
    "name": "ipython",
    "version": 3
   },
   "file_extension": ".py",
   "mimetype": "text/x-python",
   "name": "python",
   "nbconvert_exporter": "python",
   "pygments_lexer": "ipython3",
   "version": "3.10.4"
  },
  "orig_nbformat": 4
 },
 "nbformat": 4,
 "nbformat_minor": 2
}
