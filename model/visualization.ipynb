{
 "cells": [
  {
   "cell_type": "code",
   "execution_count": 1,
   "metadata": {},
   "outputs": [],
   "source": [
    "from datetime import datetime\n",
    "import requests\n",
    "import json"
   ]
  },
  {
   "cell_type": "code",
   "execution_count": 14,
   "metadata": {},
   "outputs": [],
   "source": [
    "url = \"https://api.powerbi.com/beta/271d5e7b-1350-4b96-ab84-52dbda4cf40c/datasets/e63a7fed-c2ee-4b88-9cc3-8dadb01d642e/rows?key=VDUYAE2tjjrmz2gGpUUh5nIVgpAT8JgTajd9a2TdBJ%2FrEpamPm3PnqagSkZsy92CwX36Ew7JNLFPmQGQmhhylg%3D%3D\""
   ]
  },
  {
   "cell_type": "code",
   "execution_count": 18,
   "metadata": {},
   "outputs": [],
   "source": [
    "url = \"https://api.powerbi.com/beta/271d5e7b-1350-4b96-ab84-52dbda4cf40c/datasets/e63a7fed-c2ee-4b88-9cc3-8dadb01d642e/rows?key=VDUYAE2tjjrmz2gGpUUh5nIVgpAT8JgTajd9a2TdBJ%2FrEpamPm3PnqagSkZsy92CwX36Ew7JNLFPmQGQmhhylg%3D%3D\"\n",
    "\n",
    "headers = {\n",
    "  \"Content-Type\": \"application/json\"\n",
    "  }\n",
    "\n",
    "def push_streaming_data(data):\n",
    "  response = requests.request(\n",
    "      method=\"POST\",\n",
    "      url=url,\n",
    "      headers=headers,\n",
    "      data=json.dumps(data)\n",
    "  )"
   ]
  },
  {
   "cell_type": "code",
   "execution_count": 31,
   "metadata": {},
   "outputs": [],
   "source": [
    "data = [\n",
    "{\n",
    "\"station\" :\"bkk\",\n",
    "\"date\" :\"2022-05-20 08:00:00\",\n",
    "\"value\" :3,\n",
    "\"type\" :\"history\",\n",
    "\"lat\" :6,\n",
    "\"long\" :98.6\n",
    "},\n",
    "{\n",
    "\"station\" :\"bkk\",\n",
    "\"date\" :\"2022-05-21 09:00:00\",\n",
    "\"value\" :2,\n",
    "\"type\" :\"history\",\n",
    "\"lat\" :6,\n",
    "\"long\" :98.6\n",
    "},\n",
    "{\n",
    "\"station\" :\"bkk\",\n",
    "\"date\" :\"2022-05-22 10:00:00\",\n",
    "\"value\" :1,\n",
    "\"type\" :\"history\",\n",
    "\"lat\" :6,\n",
    "\"long\" :98.6\n",
    "}\n",
    "]"
   ]
  },
  {
   "cell_type": "code",
   "execution_count": 26,
   "metadata": {},
   "outputs": [],
   "source": [
    "data = [\n",
    "{\n",
    "\"station\" :\"mochit\",\n",
    "\"date\" :\"2022-05-16 08:00:00\",\n",
    "\"value\" :100,\n",
    "\"type\" :\"predicted\",\n",
    "\"lat\" :6,\n",
    "\"long\" :98.6\n",
    "},\n",
    "{\n",
    "\"station\" :\"mochit\",\n",
    "\"date\" :\"2022-05-16 09:00:00\",\n",
    "\"value\" :70,\n",
    "\"type\" :\"predicted\",\n",
    "\"lat\" :6,\n",
    "\"long\" :98.6\n",
    "},\n",
    "{\n",
    "\"station\" :\"mochit\",\n",
    "\"date\" :\"2022-05-16 10:00:00\",\n",
    "\"value\" :50,\n",
    "\"type\" :\"predicted\",\n",
    "\"lat\" :6,\n",
    "\"long\" :98.6\n",
    "}\n",
    "]"
   ]
  },
  {
   "cell_type": "code",
   "execution_count": null,
   "metadata": {},
   "outputs": [],
   "source": [
    "push_streaming_data(data)"
   ]
  }
 ],
 "metadata": {
  "interpreter": {
   "hash": "dadc8e8bb9ce544ecdba487e4f370facadbb48df51df38eb2f6de5fcc26f1856"
  },
  "kernelspec": {
   "display_name": "Python 3.10.4 64-bit (windows store)",
   "language": "python",
   "name": "python3"
  },
  "language_info": {
   "codemirror_mode": {
    "name": "ipython",
    "version": 3
   },
   "file_extension": ".py",
   "mimetype": "text/x-python",
   "name": "python",
   "nbconvert_exporter": "python",
   "pygments_lexer": "ipython3",
   "version": "3.10.4"
  },
  "orig_nbformat": 4
 },
 "nbformat": 4,
 "nbformat_minor": 2
}
